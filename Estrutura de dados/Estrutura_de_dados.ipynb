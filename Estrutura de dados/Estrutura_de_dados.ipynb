{
  "nbformat": 4,
  "nbformat_minor": 0,
  "metadata": {
    "colab": {
      "name": "Estrutura_de_dados.ipynb",
      "provenance": [],
      "collapsed_sections": [
        "vvd2S9jWDqJG",
        "CDCEQgKJKlHw"
      ],
      "toc_visible": true
    },
    "kernelspec": {
      "name": "python3",
      "display_name": "Python 3"
    },
    "language_info": {
      "name": "python"
    }
  },
  "cells": [
    {
      "cell_type": "code",
      "metadata": {
        "id": "5AzATV3DDTRb"
      },
      "source": [
        ""
      ],
      "execution_count": null,
      "outputs": []
    },
    {
      "cell_type": "markdown",
      "metadata": {
        "id": "IhR216SrDVvt"
      },
      "source": [
        "# Estrutura de Dados\n"
      ]
    },
    {
      "cell_type": "markdown",
      "metadata": {
        "id": "vvd2S9jWDqJG"
      },
      "source": [
        "## Listas"
      ]
    },
    {
      "cell_type": "code",
      "metadata": {
        "colab": {
          "base_uri": "https://localhost:8080/"
        },
        "id": "2-96aMDlD1NP",
        "outputId": "2d1386a9-ee50-4b08-c64b-11cac776b975"
      },
      "source": [
        "# Criando uma lista chamada animais\n",
        "\n",
        "animais = [1,2,3]\n",
        "animais"
      ],
      "execution_count": 1,
      "outputs": [
        {
          "output_type": "execute_result",
          "data": {
            "text/plain": [
              "[1, 2, 3]"
            ]
          },
          "metadata": {},
          "execution_count": 1
        }
      ]
    },
    {
      "cell_type": "code",
      "metadata": {
        "colab": {
          "base_uri": "https://localhost:8080/"
        },
        "id": "qX8Wew9AEAnb",
        "outputId": "9926b8d7-af2a-4eeb-c945-e4ea52cae2ff"
      },
      "source": [
        "animais = [\"gato\",\"papagaio\",12345, 6.5]\n",
        "animais"
      ],
      "execution_count": 35,
      "outputs": [
        {
          "output_type": "execute_result",
          "data": {
            "text/plain": [
              "['gato', 'papagaio', 12345, 6.5]"
            ]
          },
          "metadata": {},
          "execution_count": 35
        }
      ]
    },
    {
      "cell_type": "code",
      "metadata": {
        "colab": {
          "base_uri": "https://localhost:8080/",
          "height": 35
        },
        "id": "ypa6xHxKEN4M",
        "outputId": "9d390b64-3bf9-4a5d-d396-535f4240248c"
      },
      "source": [
        "# Imprimindo o primeiro elemento da lista\n",
        "animais[0]"
      ],
      "execution_count": 3,
      "outputs": [
        {
          "output_type": "execute_result",
          "data": {
            "application/vnd.google.colaboratory.intrinsic+json": {
              "type": "string"
            },
            "text/plain": [
              "'gato'"
            ]
          },
          "metadata": {},
          "execution_count": 3
        }
      ]
    },
    {
      "cell_type": "code",
      "metadata": {
        "colab": {
          "base_uri": "https://localhost:8080/"
        },
        "id": "KKODcgObEV12",
        "outputId": "779efe29-167b-4f71-c5a4-93277c75cb16"
      },
      "source": [
        "# Imprimindo o quarto elemento da lista \n",
        "\n",
        "animais[3]"
      ],
      "execution_count": 29,
      "outputs": [
        {
          "output_type": "execute_result",
          "data": {
            "text/plain": [
              "6.5"
            ]
          },
          "metadata": {},
          "execution_count": 29
        }
      ]
    },
    {
      "cell_type": "code",
      "metadata": {
        "colab": {
          "base_uri": "https://localhost:8080/"
        },
        "id": "qx_cNuXIEi6n",
        "outputId": "1dfd6965-1c4d-46c3-f4e3-0b73afc3dcd7"
      },
      "source": [
        "# Substituindo o primeiro elemento da lista\n",
        "\n",
        "animais[0] = \"jacaré\"\n",
        "animais"
      ],
      "execution_count": 36,
      "outputs": [
        {
          "output_type": "execute_result",
          "data": {
            "text/plain": [
              "['jacaré', 'papagaio', 12345, 6.5]"
            ]
          },
          "metadata": {},
          "execution_count": 36
        }
      ]
    },
    {
      "cell_type": "code",
      "metadata": {
        "colab": {
          "base_uri": "https://localhost:8080/"
        },
        "id": "gOrZmgAoFrR3",
        "outputId": "7f23de35-dcae-40a5-dcba-1558dfc1426d"
      },
      "source": [
        "# Removendo \"papagaio\" da lista\n",
        "\n",
        "animais.remove(\"papagaio\")\n",
        "animais"
      ],
      "execution_count": 37,
      "outputs": [
        {
          "output_type": "execute_result",
          "data": {
            "text/plain": [
              "['jacaré', 12345, 6.5]"
            ]
          },
          "metadata": {},
          "execution_count": 37
        }
      ]
    },
    {
      "cell_type": "code",
      "metadata": {
        "colab": {
          "base_uri": "https://localhost:8080/"
        },
        "id": "25Mk0qlIF24o",
        "outputId": "707e6e63-b4cb-4d8a-c906-959889be41f3"
      },
      "source": [
        "# Quantidade de elementos (Tamanho) de uma lista\n",
        "\n",
        "len(animais)"
      ],
      "execution_count": 17,
      "outputs": [
        {
          "output_type": "execute_result",
          "data": {
            "text/plain": [
              "3"
            ]
          },
          "metadata": {},
          "execution_count": 17
        }
      ]
    },
    {
      "cell_type": "code",
      "metadata": {
        "colab": {
          "base_uri": "https://localhost:8080/"
        },
        "id": "uTJGUbwqGMtT",
        "outputId": "d5583723-37b9-4ee5-dc27-d6665c3ae4ca"
      },
      "source": [
        "# Quando saber que um determinado elemento pertence a uma lista???\n",
        "\n",
        "\"gato\" in animais"
      ],
      "execution_count": 18,
      "outputs": [
        {
          "output_type": "execute_result",
          "data": {
            "text/plain": [
              "False"
            ]
          },
          "metadata": {},
          "execution_count": 18
        }
      ]
    },
    {
      "cell_type": "code",
      "metadata": {
        "id": "iffHXt_8GiqP"
      },
      "source": [
        "# Criando lista numérica\n",
        "\n",
        "lista = [500,30,300,80,10]"
      ],
      "execution_count": 19,
      "outputs": []
    },
    {
      "cell_type": "code",
      "metadata": {
        "colab": {
          "base_uri": "https://localhost:8080/"
        },
        "id": "WDhnkU3-G_gE",
        "outputId": "f6f28d90-6beb-4595-d3a0-989fc8ae790a"
      },
      "source": [
        "# Comando para saber o valor máximo de uma lista\n",
        "\n",
        "max(lista)"
      ],
      "execution_count": 20,
      "outputs": [
        {
          "output_type": "execute_result",
          "data": {
            "text/plain": [
              "500"
            ]
          },
          "metadata": {},
          "execution_count": 20
        }
      ]
    },
    {
      "cell_type": "code",
      "metadata": {
        "colab": {
          "base_uri": "https://localhost:8080/"
        },
        "id": "9jFPy7yEHeWk",
        "outputId": "83a90c46-383e-489c-94c1-65c704d06147"
      },
      "source": [
        "# Comando para saber o valor mínimo de uma lista\n",
        "\n",
        "min(lista)"
      ],
      "execution_count": 21,
      "outputs": [
        {
          "output_type": "execute_result",
          "data": {
            "text/plain": [
              "10"
            ]
          },
          "metadata": {},
          "execution_count": 21
        }
      ]
    },
    {
      "cell_type": "code",
      "metadata": {
        "colab": {
          "base_uri": "https://localhost:8080/"
        },
        "id": "-NQcYZdUHmgq",
        "outputId": "edadea72-8d4e-4f18-f8e9-c4cdca0b6681"
      },
      "source": [
        "# Adicionando elementos a lista (Só funciona para um elemento)\n",
        "\n",
        "animais.append(\"leão\")\n",
        "animais"
      ],
      "execution_count": 32,
      "outputs": [
        {
          "output_type": "execute_result",
          "data": {
            "text/plain": [
              "['jacaré', 12345, 6.5, 'leão']"
            ]
          },
          "metadata": {},
          "execution_count": 32
        }
      ]
    },
    {
      "cell_type": "code",
      "metadata": {
        "colab": {
          "base_uri": "https://localhost:8080/"
        },
        "id": "keKHE2vpJDHW",
        "outputId": "c8e02a9f-487b-4e57-b0d2-3aea6463b1e9"
      },
      "source": [
        "# Ou para adicionar lista aninhada\n",
        "animais.append([\"leão\",1,2,3,4])\n",
        "animais"
      ],
      "execution_count": 33,
      "outputs": [
        {
          "output_type": "execute_result",
          "data": {
            "text/plain": [
              "['jacaré', 12345, 6.5, 'leão', ['leão', 1, 2, 3, 4]]"
            ]
          },
          "metadata": {},
          "execution_count": 33
        }
      ]
    },
    {
      "cell_type": "code",
      "metadata": {
        "colab": {
          "base_uri": "https://localhost:8080/"
        },
        "id": "4wtzMlygH2VH",
        "outputId": "be50ce05-3b88-4e02-b8b5-ace6e9e4cf9c"
      },
      "source": [
        "# Adicionando elementos da lista (Funciona para mais de um elemento)\n",
        "\n",
        "animais.extend([\"cobra\",6])\n",
        "animais"
      ],
      "execution_count": 38,
      "outputs": [
        {
          "output_type": "execute_result",
          "data": {
            "text/plain": [
              "['jacaré', 12345, 6.5, 'cobra', 6]"
            ]
          },
          "metadata": {},
          "execution_count": 38
        }
      ]
    },
    {
      "cell_type": "code",
      "metadata": {
        "colab": {
          "base_uri": "https://localhost:8080/"
        },
        "id": "4eRUyaY8Icj1",
        "outputId": "714683ce-ef3f-43f4-b71e-ece4c7fe09c0"
      },
      "source": [
        "# Quantas vezes a palavra \"jacaré\" aparece\n",
        "\n",
        "animais.count(\"jacaré\")"
      ],
      "execution_count": 39,
      "outputs": [
        {
          "output_type": "execute_result",
          "data": {
            "text/plain": [
              "1"
            ]
          },
          "metadata": {},
          "execution_count": 39
        }
      ]
    },
    {
      "cell_type": "code",
      "metadata": {
        "colab": {
          "base_uri": "https://localhost:8080/"
        },
        "id": "zIhn4qRaKA3j",
        "outputId": "0f5b7aa5-5190-4151-cb1d-ee8f526a50dc"
      },
      "source": [
        "# Ordenando lista do menor para o maior\n",
        "\n",
        "lista.sort()\n",
        "lista"
      ],
      "execution_count": 40,
      "outputs": [
        {
          "output_type": "execute_result",
          "data": {
            "text/plain": [
              "[10, 30, 80, 300, 500]"
            ]
          },
          "metadata": {},
          "execution_count": 40
        }
      ]
    },
    {
      "cell_type": "code",
      "metadata": {
        "id": "PyqBLthUKRos"
      },
      "source": [
        ""
      ],
      "execution_count": null,
      "outputs": []
    },
    {
      "cell_type": "markdown",
      "metadata": {
        "id": "CDCEQgKJKlHw"
      },
      "source": [
        "## Tuplas"
      ]
    },
    {
      "cell_type": "code",
      "metadata": {
        "id": "XzZ0MJKwKqns"
      },
      "source": [
        "# As tuplas usam parênteses como sintaxe\n",
        "\n",
        "tp = (\"banana\",\"maçã\",10,50)"
      ],
      "execution_count": 41,
      "outputs": []
    },
    {
      "cell_type": "code",
      "metadata": {
        "colab": {
          "base_uri": "https://localhost:8080/",
          "height": 35
        },
        "id": "7kQmPIMzK-jA",
        "outputId": "3f8f7cba-0e16-4845-f773-811b0586ef90"
      },
      "source": [
        "# Retornando o primeiro elemento\n",
        "\n",
        "tp[0]"
      ],
      "execution_count": 42,
      "outputs": [
        {
          "output_type": "execute_result",
          "data": {
            "application/vnd.google.colaboratory.intrinsic+json": {
              "type": "string"
            },
            "text/plain": [
              "'banana'"
            ]
          },
          "metadata": {},
          "execution_count": 42
        }
      ]
    },
    {
      "cell_type": "code",
      "metadata": {
        "id": "Zcf09b5MLQZr"
      },
      "source": [
        "# Tuplas são imutáveis\n",
        "\n",
        "tp[0] = \"laranja\""
      ],
      "execution_count": null,
      "outputs": []
    },
    {
      "cell_type": "code",
      "metadata": {
        "colab": {
          "base_uri": "https://localhost:8080/"
        },
        "id": "6ELbrgm1LVus",
        "outputId": "e91cd503-5638-4350-82c8-8be5c2ac4958"
      },
      "source": [
        "tp.count(\"maçã\")"
      ],
      "execution_count": 44,
      "outputs": [
        {
          "output_type": "execute_result",
          "data": {
            "text/plain": [
              "1"
            ]
          },
          "metadata": {},
          "execution_count": 44
        }
      ]
    },
    {
      "cell_type": "code",
      "metadata": {
        "colab": {
          "base_uri": "https://localhost:8080/"
        },
        "id": "Ca1UJL0lLayB",
        "outputId": "5f8b384c-3f9e-49d9-89ef-0a85269bd9ad"
      },
      "source": [
        "tp[0:2]"
      ],
      "execution_count": 45,
      "outputs": [
        {
          "output_type": "execute_result",
          "data": {
            "text/plain": [
              "('banana', 'maçã')"
            ]
          },
          "metadata": {},
          "execution_count": 45
        }
      ]
    },
    {
      "cell_type": "code",
      "metadata": {
        "id": "EHvxIaKrLe4z"
      },
      "source": [
        ""
      ],
      "execution_count": null,
      "outputs": []
    },
    {
      "cell_type": "markdown",
      "metadata": {
        "id": "H-yfHQpCLhOU"
      },
      "source": [
        "## Dicionários"
      ]
    },
    {
      "cell_type": "code",
      "metadata": {
        "colab": {
          "base_uri": "https://localhost:8080/"
        },
        "id": "YBt9UMN2LlWi",
        "outputId": "5e71e9a6-d53a-4176-94a9-976e7b2daef6"
      },
      "source": [
        "# Para criar um dicionário utilizamos as {}\n",
        "\n",
        "dc = {\"maçã\":20,\"banana\":10,\"laranja\":15,\"uva\":5} # Dicionários trabalham com conceitos de chave e valor\n",
        "dc"
      ],
      "execution_count": 48,
      "outputs": [
        {
          "output_type": "execute_result",
          "data": {
            "text/plain": [
              "{'banana': 10, 'laranja': 15, 'maçã': 20, 'uva': 5}"
            ]
          },
          "metadata": {},
          "execution_count": 48
        }
      ]
    },
    {
      "cell_type": "code",
      "metadata": {
        "colab": {
          "base_uri": "https://localhost:8080/"
        },
        "id": "4pv88HsAMJyO",
        "outputId": "97d4c38b-670c-4cd0-d220-b6492273cf0d"
      },
      "source": [
        "# Acessando o valor de um dicionário através da chave\n",
        "\n",
        "dc[\"maçã\"]"
      ],
      "execution_count": 49,
      "outputs": [
        {
          "output_type": "execute_result",
          "data": {
            "text/plain": [
              "20"
            ]
          },
          "metadata": {},
          "execution_count": 49
        }
      ]
    },
    {
      "cell_type": "code",
      "metadata": {
        "colab": {
          "base_uri": "https://localhost:8080/"
        },
        "id": "iGlQYn-nMWgW",
        "outputId": "93a309d4-09ba-4e67-f1c8-0206452b129c"
      },
      "source": [
        "# Atualizando o valor de Maçã\n",
        "\n",
        "dc[\"maçã\"] = 25\n",
        "dc"
      ],
      "execution_count": 50,
      "outputs": [
        {
          "output_type": "execute_result",
          "data": {
            "text/plain": [
              "{'banana': 10, 'laranja': 15, 'maçã': 25, 'uva': 5}"
            ]
          },
          "metadata": {},
          "execution_count": 50
        }
      ]
    },
    {
      "cell_type": "code",
      "metadata": {
        "colab": {
          "base_uri": "https://localhost:8080/"
        },
        "id": "Vi9ubDOoMqHy",
        "outputId": "b02ef86a-5d1e-4642-b87e-453c4c2ee6ab"
      },
      "source": [
        "# Retornando todas as \"keys(Chaves)\" do dicionário\n",
        "\n",
        "dc.keys()"
      ],
      "execution_count": 51,
      "outputs": [
        {
          "output_type": "execute_result",
          "data": {
            "text/plain": [
              "dict_keys(['maçã', 'banana', 'laranja', 'uva'])"
            ]
          },
          "metadata": {},
          "execution_count": 51
        }
      ]
    },
    {
      "cell_type": "code",
      "metadata": {
        "colab": {
          "base_uri": "https://localhost:8080/"
        },
        "id": "BWBDB2GLM1Dt",
        "outputId": "626f5e16-dff5-4888-f66b-812390483097"
      },
      "source": [
        "# Retornando todos os \"valores (values)\" do dicionário\n",
        "\n",
        "dc.values()"
      ],
      "execution_count": 52,
      "outputs": [
        {
          "output_type": "execute_result",
          "data": {
            "text/plain": [
              "dict_values([25, 10, 15, 5])"
            ]
          },
          "metadata": {},
          "execution_count": 52
        }
      ]
    },
    {
      "cell_type": "code",
      "metadata": {
        "colab": {
          "base_uri": "https://localhost:8080/"
        },
        "id": "2ynuH31bM_ep",
        "outputId": "66acbd9f-7809-46d0-cb37-a79e300b6be4"
      },
      "source": [
        "# Verificando se já existe uma chave no dicionário e caso não exista inserir\n",
        "\n",
        "dc.setdefault(\"Limão\",22)\n",
        "dc"
      ],
      "execution_count": 53,
      "outputs": [
        {
          "output_type": "execute_result",
          "data": {
            "text/plain": [
              "{'Limão': 22, 'banana': 10, 'laranja': 15, 'maçã': 25, 'uva': 5}"
            ]
          },
          "metadata": {},
          "execution_count": 53
        }
      ]
    },
    {
      "cell_type": "code",
      "metadata": {
        "id": "z9kPPY7wNU7n"
      },
      "source": [
        ""
      ],
      "execution_count": null,
      "outputs": []
    }
  ]
}